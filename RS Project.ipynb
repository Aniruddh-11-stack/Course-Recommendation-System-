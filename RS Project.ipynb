{
 "cells": [
  {
   "cell_type": "code",
   "execution_count": 2,
   "id": "ca38795c",
   "metadata": {},
   "outputs": [],
   "source": [
    "import numpy as np\n",
    "import pandas as pd\n",
    "import matplotlib.pyplot as plt\n",
    "import seaborn as sns\n",
    "from wordcloud import WordCloud\n",
    "from sklearn.feature_extraction.text import TfidfVectorizer\n",
    "from sklearn.metrics.pairwise import linear_kernel\n",
    "sns.set_style('darkgrid')\n",
    "plt.style.use('fivethirtyeight')"
   ]
  },
  {
   "cell_type": "code",
   "execution_count": 4,
   "id": "ecda3129",
   "metadata": {},
   "outputs": [
    {
     "data": {
      "text/html": [
       "<div>\n",
       "<style scoped>\n",
       "    .dataframe tbody tr th:only-of-type {\n",
       "        vertical-align: middle;\n",
       "    }\n",
       "\n",
       "    .dataframe tbody tr th {\n",
       "        vertical-align: top;\n",
       "    }\n",
       "\n",
       "    .dataframe thead th {\n",
       "        text-align: right;\n",
       "    }\n",
       "</style>\n",
       "<table border=\"1\" class=\"dataframe\">\n",
       "  <thead>\n",
       "    <tr style=\"text-align: right;\">\n",
       "      <th></th>\n",
       "      <th>Course Name</th>\n",
       "      <th>University</th>\n",
       "      <th>Difficulty Level</th>\n",
       "      <th>Course Rating</th>\n",
       "      <th>Course URL</th>\n",
       "      <th>Course Description</th>\n",
       "      <th>Skills</th>\n",
       "    </tr>\n",
       "  </thead>\n",
       "  <tbody>\n",
       "    <tr>\n",
       "      <th>0</th>\n",
       "      <td>Write A Feature Length Screenplay For Film Or ...</td>\n",
       "      <td>Michigan State University</td>\n",
       "      <td>Beginner</td>\n",
       "      <td>4.8</td>\n",
       "      <td>https://www.coursera.org/learn/write-a-feature...</td>\n",
       "      <td>Write a Full Length Feature Film Script  In th...</td>\n",
       "      <td>Drama  Comedy  peering  screenwriting  film  D...</td>\n",
       "    </tr>\n",
       "    <tr>\n",
       "      <th>1</th>\n",
       "      <td>Business Strategy: Business Model Canvas Analy...</td>\n",
       "      <td>Coursera Project Network</td>\n",
       "      <td>Beginner</td>\n",
       "      <td>4.8</td>\n",
       "      <td>https://www.coursera.org/learn/canvas-analysis...</td>\n",
       "      <td>By the end of this guided project, you will be...</td>\n",
       "      <td>Finance  business plan  persona (user experien...</td>\n",
       "    </tr>\n",
       "    <tr>\n",
       "      <th>2</th>\n",
       "      <td>Silicon Thin Film Solar Cells</td>\n",
       "      <td>�cole Polytechnique</td>\n",
       "      <td>Advanced</td>\n",
       "      <td>4.1</td>\n",
       "      <td>https://www.coursera.org/learn/silicon-thin-fi...</td>\n",
       "      <td>This course consists of a general presentation...</td>\n",
       "      <td>chemistry  physics  Solar Energy  film  lambda...</td>\n",
       "    </tr>\n",
       "    <tr>\n",
       "      <th>3</th>\n",
       "      <td>Finance for Managers</td>\n",
       "      <td>IESE Business School</td>\n",
       "      <td>Intermediate</td>\n",
       "      <td>4.8</td>\n",
       "      <td>https://www.coursera.org/learn/operational-fin...</td>\n",
       "      <td>When it comes to numbers, there is always more...</td>\n",
       "      <td>accounts receivable  dupont analysis  analysis...</td>\n",
       "    </tr>\n",
       "    <tr>\n",
       "      <th>4</th>\n",
       "      <td>Retrieve Data using Single-Table SQL Queries</td>\n",
       "      <td>Coursera Project Network</td>\n",
       "      <td>Beginner</td>\n",
       "      <td>4.6</td>\n",
       "      <td>https://www.coursera.org/learn/single-table-sq...</td>\n",
       "      <td>In this course you�ll learn how to effectively...</td>\n",
       "      <td>Data Analysis  select (sql)  database manageme...</td>\n",
       "    </tr>\n",
       "  </tbody>\n",
       "</table>\n",
       "</div>"
      ],
      "text/plain": [
       "                                         Course Name  \\\n",
       "0  Write A Feature Length Screenplay For Film Or ...   \n",
       "1  Business Strategy: Business Model Canvas Analy...   \n",
       "2                      Silicon Thin Film Solar Cells   \n",
       "3                               Finance for Managers   \n",
       "4       Retrieve Data using Single-Table SQL Queries   \n",
       "\n",
       "                  University Difficulty Level Course Rating  \\\n",
       "0  Michigan State University         Beginner           4.8   \n",
       "1   Coursera Project Network         Beginner           4.8   \n",
       "2        �cole Polytechnique         Advanced           4.1   \n",
       "3       IESE Business School     Intermediate           4.8   \n",
       "4   Coursera Project Network         Beginner           4.6   \n",
       "\n",
       "                                          Course URL  \\\n",
       "0  https://www.coursera.org/learn/write-a-feature...   \n",
       "1  https://www.coursera.org/learn/canvas-analysis...   \n",
       "2  https://www.coursera.org/learn/silicon-thin-fi...   \n",
       "3  https://www.coursera.org/learn/operational-fin...   \n",
       "4  https://www.coursera.org/learn/single-table-sq...   \n",
       "\n",
       "                                  Course Description  \\\n",
       "0  Write a Full Length Feature Film Script  In th...   \n",
       "1  By the end of this guided project, you will be...   \n",
       "2  This course consists of a general presentation...   \n",
       "3  When it comes to numbers, there is always more...   \n",
       "4  In this course you�ll learn how to effectively...   \n",
       "\n",
       "                                              Skills  \n",
       "0  Drama  Comedy  peering  screenwriting  film  D...  \n",
       "1  Finance  business plan  persona (user experien...  \n",
       "2  chemistry  physics  Solar Energy  film  lambda...  \n",
       "3  accounts receivable  dupont analysis  analysis...  \n",
       "4  Data Analysis  select (sql)  database manageme...  "
      ]
     },
     "execution_count": 4,
     "metadata": {},
     "output_type": "execute_result"
    }
   ],
   "source": [
    "data = pd.read_csv(\"Coursera.csv\")\n",
    "data.head()"
   ]
  },
  {
   "cell_type": "markdown",
   "id": "f74d9a88",
   "metadata": {},
   "source": [
    "### Basic Data Analysis"
   ]
  },
  {
   "cell_type": "code",
   "execution_count": 5,
   "id": "d8395332",
   "metadata": {},
   "outputs": [
    {
     "data": {
      "text/plain": [
       "(3522, 7)"
      ]
     },
     "execution_count": 5,
     "metadata": {},
     "output_type": "execute_result"
    }
   ],
   "source": [
    "data.shape"
   ]
  },
  {
   "cell_type": "code",
   "execution_count": 6,
   "id": "ca9b1862",
   "metadata": {},
   "outputs": [
    {
     "data": {
      "text/plain": [
       "Beginner          1444\n",
       "Advanced          1005\n",
       "Intermediate       837\n",
       "Conversant         186\n",
       "Not Calibrated      50\n",
       "Name: Difficulty Level, dtype: int64"
      ]
     },
     "execution_count": 6,
     "metadata": {},
     "output_type": "execute_result"
    }
   ],
   "source": [
    "data['Difficulty Level'].value_counts()"
   ]
  },
  {
   "cell_type": "code",
   "execution_count": 7,
   "id": "b51cb0a6",
   "metadata": {},
   "outputs": [
    {
     "data": {
      "text/plain": [
       "4.7               740\n",
       "4.6               623\n",
       "4.8               598\n",
       "4.5               389\n",
       "4.4               242\n",
       "4.9               180\n",
       "4.3               165\n",
       "4.2               121\n",
       "5                  90\n",
       "4.1                85\n",
       "Not Calibrated     82\n",
       "4                  51\n",
       "3.8                24\n",
       "3.9                20\n",
       "3.6                18\n",
       "3.7                18\n",
       "3.5                17\n",
       "3.4                13\n",
       "3                  12\n",
       "3.2                 9\n",
       "3.3                 6\n",
       "2.9                 6\n",
       "2.6                 2\n",
       "2.8                 2\n",
       "2.4                 2\n",
       "1                   2\n",
       "2                   1\n",
       "3.1                 1\n",
       "2.5                 1\n",
       "1.9                 1\n",
       "2.3                 1\n",
       "Name: Course Rating, dtype: int64"
      ]
     },
     "execution_count": 7,
     "metadata": {},
     "output_type": "execute_result"
    }
   ],
   "source": [
    "data['Course Rating'].value_counts()"
   ]
  },
  {
   "cell_type": "code",
   "execution_count": 8,
   "id": "c8814e03",
   "metadata": {},
   "outputs": [
    {
     "name": "stdout",
     "output_type": "stream",
     "text": [
      "<class 'pandas.core.frame.DataFrame'>\n",
      "RangeIndex: 3522 entries, 0 to 3521\n",
      "Data columns (total 7 columns):\n",
      " #   Column              Non-Null Count  Dtype \n",
      "---  ------              --------------  ----- \n",
      " 0   Course Name         3522 non-null   object\n",
      " 1   University          3522 non-null   object\n",
      " 2   Difficulty Level    3522 non-null   object\n",
      " 3   Course Rating       3522 non-null   object\n",
      " 4   Course URL          3522 non-null   object\n",
      " 5   Course Description  3522 non-null   object\n",
      " 6   Skills              3522 non-null   object\n",
      "dtypes: object(7)\n",
      "memory usage: 192.7+ KB\n"
     ]
    }
   ],
   "source": [
    "data.info()"
   ]
  },
  {
   "cell_type": "code",
   "execution_count": 9,
   "id": "6bb18332",
   "metadata": {},
   "outputs": [
    {
     "data": {
      "text/plain": [
       "Course Name           0\n",
       "University            0\n",
       "Difficulty Level      0\n",
       "Course Rating         0\n",
       "Course URL            0\n",
       "Course Description    0\n",
       "Skills                0\n",
       "dtype: int64"
      ]
     },
     "execution_count": 9,
     "metadata": {},
     "output_type": "execute_result"
    }
   ],
   "source": [
    "data.isnull().sum()"
   ]
  },
  {
   "cell_type": "code",
   "execution_count": 10,
   "id": "97694f8b",
   "metadata": {},
   "outputs": [
    {
     "data": {
      "text/plain": [
       "Beginner          1444\n",
       "Advanced          1005\n",
       "Intermediate       837\n",
       "Conversant         186\n",
       "Not Calibrated      50\n",
       "Name: Difficulty Level, dtype: int64"
      ]
     },
     "execution_count": 10,
     "metadata": {},
     "output_type": "execute_result"
    }
   ],
   "source": [
    "data['Difficulty Level'].value_counts()"
   ]
  },
  {
   "cell_type": "code",
   "execution_count": 11,
   "id": "264edbfd",
   "metadata": {},
   "outputs": [
    {
     "data": {
      "text/plain": [
       "4.7               740\n",
       "4.6               623\n",
       "4.8               598\n",
       "4.5               389\n",
       "4.4               242\n",
       "4.9               180\n",
       "4.3               165\n",
       "4.2               121\n",
       "5                  90\n",
       "4.1                85\n",
       "Not Calibrated     82\n",
       "4                  51\n",
       "3.8                24\n",
       "3.9                20\n",
       "3.6                18\n",
       "3.7                18\n",
       "3.5                17\n",
       "3.4                13\n",
       "3                  12\n",
       "3.2                 9\n",
       "3.3                 6\n",
       "2.9                 6\n",
       "2.6                 2\n",
       "2.8                 2\n",
       "2.4                 2\n",
       "1                   2\n",
       "2                   1\n",
       "3.1                 1\n",
       "2.5                 1\n",
       "1.9                 1\n",
       "2.3                 1\n",
       "Name: Course Rating, dtype: int64"
      ]
     },
     "execution_count": 11,
     "metadata": {},
     "output_type": "execute_result"
    }
   ],
   "source": [
    "data['Course Rating'].value_counts()"
   ]
  },
  {
   "cell_type": "code",
   "execution_count": 12,
   "id": "8abd5b0c",
   "metadata": {},
   "outputs": [
    {
     "data": {
      "text/plain": [
       "4.7               740\n",
       "4.6               623\n",
       "4.8               598\n",
       "4.5               389\n",
       "4.4               242\n",
       "4.9               180\n",
       "4.3               165\n",
       "4.2               121\n",
       "5                  90\n",
       "4.1                85\n",
       "Not Calibrated     82\n",
       "4                  51\n",
       "3.8                24\n",
       "3.9                20\n",
       "3.6                18\n",
       "3.7                18\n",
       "3.5                17\n",
       "3.4                13\n",
       "3                  12\n",
       "3.2                 9\n",
       "3.3                 6\n",
       "2.9                 6\n",
       "2.6                 2\n",
       "2.8                 2\n",
       "2.4                 2\n",
       "1                   2\n",
       "2                   1\n",
       "3.1                 1\n",
       "2.5                 1\n",
       "1.9                 1\n",
       "2.3                 1\n",
       "Name: Course Rating, dtype: int64"
      ]
     },
     "execution_count": 12,
     "metadata": {},
     "output_type": "execute_result"
    }
   ],
   "source": [
    "num_of_users = data['Course Rating'].value_counts()\n",
    "num_of_users"
   ]
  },
  {
   "cell_type": "code",
   "execution_count": 13,
   "id": "20dbe94c",
   "metadata": {},
   "outputs": [
    {
     "data": {
      "text/plain": [
       "Coursera Project Network                      562\n",
       "University of Illinois at Urbana-Champaign    138\n",
       "Johns Hopkins University                      110\n",
       "University of Michigan                        101\n",
       "University of Colorado Boulder                101\n",
       "                                             ... \n",
       "GitLab                                          1\n",
       "Yeshiva University                              1\n",
       "University of Glasgow                           1\n",
       "Laureate Education                              1\n",
       "The World Bank Group                            1\n",
       "Name: University, Length: 184, dtype: int64"
      ]
     },
     "execution_count": 13,
     "metadata": {},
     "output_type": "execute_result"
    }
   ],
   "source": [
    "data['University'].value_counts()"
   ]
  },
  {
   "cell_type": "code",
   "execution_count": 14,
   "id": "a8318bbe",
   "metadata": {},
   "outputs": [
    {
     "data": {
      "text/plain": [
       "0       Write A Feature Length Screenplay For Film Or ...\n",
       "1       Business Strategy: Business Model Canvas Analy...\n",
       "2                           Silicon Thin Film Solar Cells\n",
       "3                                    Finance for Managers\n",
       "4            Retrieve Data using Single-Table SQL Queries\n",
       "                              ...                        \n",
       "3517    Capstone: Retrieving, Processing, and Visualiz...\n",
       "3518                     Patrick Henry: Forgotten Founder\n",
       "3519    Business intelligence and data analytics: Gene...\n",
       "3520                                  Rigid Body Dynamics\n",
       "3521    Architecting with Google Kubernetes Engine: Pr...\n",
       "Name: Course Name, Length: 3522, dtype: object"
      ]
     },
     "execution_count": 14,
     "metadata": {},
     "output_type": "execute_result"
    }
   ],
   "source": [
    "data['Course Name']"
   ]
  },
  {
   "cell_type": "code",
   "execution_count": 15,
   "id": "01e54332",
   "metadata": {},
   "outputs": [],
   "source": [
    "new_data = data[['Course Name','Difficulty Level','Course Description','Skills']]"
   ]
  },
  {
   "cell_type": "code",
   "execution_count": 16,
   "id": "b43498d1",
   "metadata": {},
   "outputs": [
    {
     "data": {
      "text/html": [
       "<div>\n",
       "<style scoped>\n",
       "    .dataframe tbody tr th:only-of-type {\n",
       "        vertical-align: middle;\n",
       "    }\n",
       "\n",
       "    .dataframe tbody tr th {\n",
       "        vertical-align: top;\n",
       "    }\n",
       "\n",
       "    .dataframe thead th {\n",
       "        text-align: right;\n",
       "    }\n",
       "</style>\n",
       "<table border=\"1\" class=\"dataframe\">\n",
       "  <thead>\n",
       "    <tr style=\"text-align: right;\">\n",
       "      <th></th>\n",
       "      <th>Course Name</th>\n",
       "      <th>Difficulty Level</th>\n",
       "      <th>Course Description</th>\n",
       "      <th>Skills</th>\n",
       "    </tr>\n",
       "  </thead>\n",
       "  <tbody>\n",
       "    <tr>\n",
       "      <th>0</th>\n",
       "      <td>Write A Feature Length Screenplay For Film Or ...</td>\n",
       "      <td>Beginner</td>\n",
       "      <td>Write a Full Length Feature Film Script  In th...</td>\n",
       "      <td>Drama  Comedy  peering  screenwriting  film  D...</td>\n",
       "    </tr>\n",
       "    <tr>\n",
       "      <th>1</th>\n",
       "      <td>Business Strategy: Business Model Canvas Analy...</td>\n",
       "      <td>Beginner</td>\n",
       "      <td>By the end of this guided project, you will be...</td>\n",
       "      <td>Finance  business plan  persona (user experien...</td>\n",
       "    </tr>\n",
       "    <tr>\n",
       "      <th>2</th>\n",
       "      <td>Silicon Thin Film Solar Cells</td>\n",
       "      <td>Advanced</td>\n",
       "      <td>This course consists of a general presentation...</td>\n",
       "      <td>chemistry  physics  Solar Energy  film  lambda...</td>\n",
       "    </tr>\n",
       "    <tr>\n",
       "      <th>3</th>\n",
       "      <td>Finance for Managers</td>\n",
       "      <td>Intermediate</td>\n",
       "      <td>When it comes to numbers, there is always more...</td>\n",
       "      <td>accounts receivable  dupont analysis  analysis...</td>\n",
       "    </tr>\n",
       "    <tr>\n",
       "      <th>4</th>\n",
       "      <td>Retrieve Data using Single-Table SQL Queries</td>\n",
       "      <td>Beginner</td>\n",
       "      <td>In this course you�ll learn how to effectively...</td>\n",
       "      <td>Data Analysis  select (sql)  database manageme...</td>\n",
       "    </tr>\n",
       "  </tbody>\n",
       "</table>\n",
       "</div>"
      ],
      "text/plain": [
       "                                         Course Name Difficulty Level  \\\n",
       "0  Write A Feature Length Screenplay For Film Or ...         Beginner   \n",
       "1  Business Strategy: Business Model Canvas Analy...         Beginner   \n",
       "2                      Silicon Thin Film Solar Cells         Advanced   \n",
       "3                               Finance for Managers     Intermediate   \n",
       "4       Retrieve Data using Single-Table SQL Queries         Beginner   \n",
       "\n",
       "                                  Course Description  \\\n",
       "0  Write a Full Length Feature Film Script  In th...   \n",
       "1  By the end of this guided project, you will be...   \n",
       "2  This course consists of a general presentation...   \n",
       "3  When it comes to numbers, there is always more...   \n",
       "4  In this course you�ll learn how to effectively...   \n",
       "\n",
       "                                              Skills  \n",
       "0  Drama  Comedy  peering  screenwriting  film  D...  \n",
       "1  Finance  business plan  persona (user experien...  \n",
       "2  chemistry  physics  Solar Energy  film  lambda...  \n",
       "3  accounts receivable  dupont analysis  analysis...  \n",
       "4  Data Analysis  select (sql)  database manageme...  "
      ]
     },
     "execution_count": 16,
     "metadata": {},
     "output_type": "execute_result"
    }
   ],
   "source": [
    "new_data.head(5)"
   ]
  },
  {
   "cell_type": "markdown",
   "id": "23e45eac",
   "metadata": {},
   "source": [
    "### EDA"
   ]
  },
  {
   "cell_type": "code",
   "execution_count": 17,
   "id": "5922205a",
   "metadata": {},
   "outputs": [
    {
     "data": {
      "image/png": "[encoded data removed]",
      "text/plain": [
       "<Figure size 1500x1000 with 1 Axes>"
      ]
     },
     "metadata": {},
     "output_type": "display_data"
    }
   ],
   "source": [
    "mag = ['Beginner','Advanced','Intermediate','Conversant','Not Calibrated']\n",
    "\n",
    "data = [1444,1005,837,186,50]\n",
    "explode = (0.1,0.0,0.0,0.0,0.0)\n",
    "\n",
    "# Creating color parameters\n",
    "colors = (\"lightblue\",\"crimson\",\"yellow\",\"green\",\"violet\")\n",
    "\n",
    "# Wedge properties\n",
    "wp = { 'linewidth' : 1, 'edgecolor' : \"white\" }\n",
    "\n",
    "# Creating autocpt arguments\n",
    "def func(pct, allvalues):\n",
    "    absolute = int(pct / 100.*np.sum(allvalues))\n",
    "    return \"{:.1f}%\\n({:d} g)\".format(pct, absolute)\n",
    "\n",
    "# Creating plot\n",
    "fig, ax = plt.subplots(figsize =(15, 10))\n",
    "wedges, texts, autotexts = ax.pie(data,\n",
    "                                  autopct = lambda pct: func(pct, data),\n",
    "                                  explode = explode,\n",
    "                                  labels = mag,\n",
    "                                  shadow = True,\n",
    "                                  colors = colors,\n",
    "                                  startangle = 90,\n",
    "                                  wedgeprops = wp,\n",
    "                                  textprops = dict(color =\"black\"))\n",
    "\n",
    "# Adding legend\n",
    "ax.legend(wedges, mag,\n",
    "          title =\"Values\",\n",
    "          loc =\"center left\",\n",
    "          bbox_to_anchor =(1, 0, 0.5, 1))\n",
    "\n",
    "plt.setp(autotexts, size = 10, weight =\"bold\")\n",
    "ax.set_title(\"Payment type of course\\n\",size=19)\n",
    "\n",
    "# show plot\n",
    "\n",
    "plt.show()"
   ]
  },
  {
   "cell_type": "code",
   "execution_count": 18,
   "id": "2c1df7ba",
   "metadata": {},
   "outputs": [
    {
     "data": {
      "image/png": "[encoded data removed]",
      "text/plain": [
       "<Figure size 640x480 with 1 Axes>"
      ]
     },
     "metadata": {},
     "output_type": "display_data"
    }
   ],
   "source": [
    "import pandas as pd\n",
    "import seaborn as sns\n",
    "\n",
    "# Load the data\n",
    "data = pd.read_csv('Coursera.csv')\n",
    "\n",
    "# Convert the 'Course Rating' column to a numeric column\n",
    "data['Course Rating'] = pd.to_numeric(data['Course Rating'], errors='coerce')\n",
    "\n",
    "# Remove non-numeric values from the 'Course Rating' column\n",
    "data['Course Rating'] = data['Course Rating'].dropna()\n",
    "\n",
    "# Create a boxplot of the course ratings\n",
    "sns.boxplot(data['Course Rating']);\n",
    "\n",
    "# Add a title to the plot\n",
    "plt.title('Course difficulty level', pad=20)\n",
    "\n",
    "# Show the plot\n",
    "plt.show()\n",
    "\n"
   ]
  },
  {
   "cell_type": "code",
   "execution_count": 19,
   "id": "0b191d52",
   "metadata": {},
   "outputs": [
    {
     "data": {
      "image/png": "[encoded data removed]",
      "text/plain": [
       "<Figure size 1000x600 with 1 Axes>"
      ]
     },
     "metadata": {},
     "output_type": "display_data"
    }
   ],
   "source": [
    "import pandas as pd\n",
    "import seaborn as sns\n",
    "import matplotlib.pyplot as plt\n",
    "\n",
    "# Load the data\n",
    "data = pd.read_csv('Coursera.csv')\n",
    "\n",
    "# Get the most popular universities\n",
    "popular_universities = data['University'].value_counts().nlargest(10)\n",
    "\n",
    "# Create a figure\n",
    "plt.figure('Most Popular Universities', figsize=(10, 6))\n",
    "\n",
    "# Create a bar plot\n",
    "sns.barplot(x=popular_universities.index, y=popular_universities.values, width=1)\n",
    "\n",
    "# Show the plot\n",
    "plt.show()\n"
   ]
  },
  {
   "cell_type": "code",
   "execution_count": 20,
   "id": "1e5a8bdb",
   "metadata": {},
   "outputs": [
    {
     "data": {
      "text/plain": [
       "Index(['Course Name', 'Difficulty Level', 'Course Description', 'Skills'], dtype='object')"
      ]
     },
     "execution_count": 20,
     "metadata": {},
     "output_type": "execute_result"
    }
   ],
   "source": [
    "new_data.columns"
   ]
  },
  {
   "cell_type": "code",
   "execution_count": 21,
   "id": "32bb17e9",
   "metadata": {},
   "outputs": [
    {
     "name": "stderr",
     "output_type": "stream",
     "text": [
      "C:\\Users\\aniku\\AppData\\Local\\Temp\\ipykernel_7668\\1097479083.py:10: FutureWarning: The default value of regex will change from True to False in a future version. In addition, single character regular expressions will *not* be treated as literal strings when regex=True.\n",
      "  new_data['Course Description'] = new_data['Course Description'].str.replace('(','')\n",
      "C:\\Users\\aniku\\AppData\\Local\\Temp\\ipykernel_7668\\1097479083.py:11: FutureWarning: The default value of regex will change from True to False in a future version. In addition, single character regular expressions will *not* be treated as literal strings when regex=True.\n",
      "  new_data['Course Description'] = new_data['Course Description'].str.replace(')','')\n",
      "C:\\Users\\aniku\\AppData\\Local\\Temp\\ipykernel_7668\\1097479083.py:14: FutureWarning: The default value of regex will change from True to False in a future version. In addition, single character regular expressions will *not* be treated as literal strings when regex=True.\n",
      "  new_data['Skills'] = new_data['Skills'].str.replace('(','')\n",
      "C:\\Users\\aniku\\AppData\\Local\\Temp\\ipykernel_7668\\1097479083.py:15: FutureWarning: The default value of regex will change from True to False in a future version. In addition, single character regular expressions will *not* be treated as literal strings when regex=True.\n",
      "  new_data['Skills'] = new_data['Skills'].str.replace(')','')\n"
     ]
    }
   ],
   "source": [
    "# Removing spaces between the words (Lambda funtions can be used as well)\n",
    "\n",
    "new_data['Course Name'] = new_data['Course Name'].str.replace(' ',',')\n",
    "new_data['Course Name'] = new_data['Course Name'].str.replace(',,',',')\n",
    "new_data['Course Name'] = new_data['Course Name'].str.replace(':','')\n",
    "new_data['Course Description'] = new_data['Course Description'].str.replace(' ',',')\n",
    "new_data['Course Description'] = new_data['Course Description'].str.replace(',,',',')\n",
    "new_data['Course Description'] = new_data['Course Description'].str.replace('_','')\n",
    "new_data['Course Description'] = new_data['Course Description'].str.replace(':','')\n",
    "new_data['Course Description'] = new_data['Course Description'].str.replace('(','')\n",
    "new_data['Course Description'] = new_data['Course Description'].str.replace(')','')\n",
    "\n",
    "#removing paranthesis from skills columns\n",
    "new_data['Skills'] = new_data['Skills'].str.replace('(','')\n",
    "new_data['Skills'] = new_data['Skills'].str.replace(')','')"
   ]
  },
  {
   "cell_type": "code",
   "execution_count": 22,
   "id": "8861e290",
   "metadata": {},
   "outputs": [
    {
     "data": {
      "text/html": [
       "<div>\n",
       "<style scoped>\n",
       "    .dataframe tbody tr th:only-of-type {\n",
       "        vertical-align: middle;\n",
       "    }\n",
       "\n",
       "    .dataframe tbody tr th {\n",
       "        vertical-align: top;\n",
       "    }\n",
       "\n",
       "    .dataframe thead th {\n",
       "        text-align: right;\n",
       "    }\n",
       "</style>\n",
       "<table border=\"1\" class=\"dataframe\">\n",
       "  <thead>\n",
       "    <tr style=\"text-align: right;\">\n",
       "      <th></th>\n",
       "      <th>Course Name</th>\n",
       "      <th>Difficulty Level</th>\n",
       "      <th>Course Description</th>\n",
       "      <th>Skills</th>\n",
       "    </tr>\n",
       "  </thead>\n",
       "  <tbody>\n",
       "    <tr>\n",
       "      <th>0</th>\n",
       "      <td>Write,A,Feature,Length,Screenplay,For,Film,Or,...</td>\n",
       "      <td>Beginner</td>\n",
       "      <td>Write,a,Full,Length,Feature,Film,Script,In,thi...</td>\n",
       "      <td>Drama  Comedy  peering  screenwriting  film  D...</td>\n",
       "    </tr>\n",
       "    <tr>\n",
       "      <th>1</th>\n",
       "      <td>Business,Strategy,Business,Model,Canvas,Analys...</td>\n",
       "      <td>Beginner</td>\n",
       "      <td>By,the,end,of,this,guided,project,you,will,be,...</td>\n",
       "      <td>Finance  business plan  persona user experienc...</td>\n",
       "    </tr>\n",
       "    <tr>\n",
       "      <th>2</th>\n",
       "      <td>Silicon,Thin,Film,Solar,Cells</td>\n",
       "      <td>Advanced</td>\n",
       "      <td>This,course,consists,of,a,general,presentation...</td>\n",
       "      <td>chemistry  physics  Solar Energy  film  lambda...</td>\n",
       "    </tr>\n",
       "    <tr>\n",
       "      <th>3</th>\n",
       "      <td>Finance,for,Managers</td>\n",
       "      <td>Intermediate</td>\n",
       "      <td>When,it,comes,to,numbers,there,is,always,more,...</td>\n",
       "      <td>accounts receivable  dupont analysis  analysis...</td>\n",
       "    </tr>\n",
       "    <tr>\n",
       "      <th>4</th>\n",
       "      <td>Retrieve,Data,using,Single-Table,SQL,Queries</td>\n",
       "      <td>Beginner</td>\n",
       "      <td>In,this,course,you�ll,learn,how,to,effectively...</td>\n",
       "      <td>Data Analysis  select sql  database management...</td>\n",
       "    </tr>\n",
       "  </tbody>\n",
       "</table>\n",
       "</div>"
      ],
      "text/plain": [
       "                                         Course Name Difficulty Level  \\\n",
       "0  Write,A,Feature,Length,Screenplay,For,Film,Or,...         Beginner   \n",
       "1  Business,Strategy,Business,Model,Canvas,Analys...         Beginner   \n",
       "2                      Silicon,Thin,Film,Solar,Cells         Advanced   \n",
       "3                               Finance,for,Managers     Intermediate   \n",
       "4       Retrieve,Data,using,Single-Table,SQL,Queries         Beginner   \n",
       "\n",
       "                                  Course Description  \\\n",
       "0  Write,a,Full,Length,Feature,Film,Script,In,thi...   \n",
       "1  By,the,end,of,this,guided,project,you,will,be,...   \n",
       "2  This,course,consists,of,a,general,presentation...   \n",
       "3  When,it,comes,to,numbers,there,is,always,more,...   \n",
       "4  In,this,course,you�ll,learn,how,to,effectively...   \n",
       "\n",
       "                                              Skills  \n",
       "0  Drama  Comedy  peering  screenwriting  film  D...  \n",
       "1  Finance  business plan  persona user experienc...  \n",
       "2  chemistry  physics  Solar Energy  film  lambda...  \n",
       "3  accounts receivable  dupont analysis  analysis...  \n",
       "4  Data Analysis  select sql  database management...  "
      ]
     },
     "execution_count": 22,
     "metadata": {},
     "output_type": "execute_result"
    }
   ],
   "source": [
    "new_data.head(5)"
   ]
  },
  {
   "cell_type": "markdown",
   "id": "8253b58a",
   "metadata": {},
   "source": [
    "# Tags Coloumn"
   ]
  },
  {
   "cell_type": "markdown",
   "id": "145e487f",
   "metadata": {},
   "source": [
    "### The tags column is the combination of the following columns : Course Name + Difficulty Level + Course Description + Skills"
   ]
  },
  {
   "cell_type": "code",
   "execution_count": 23,
   "id": "75676293",
   "metadata": {},
   "outputs": [],
   "source": [
    "new_data['tags'] = new_data['Course Name'] + new_data['Difficulty Level'] + new_data['Course Description'] + new_data['Skills']"
   ]
  },
  {
   "cell_type": "code",
   "execution_count": 24,
   "id": "afc65670",
   "metadata": {},
   "outputs": [
    {
     "data": {
      "text/html": [
       "<div>\n",
       "<style scoped>\n",
       "    .dataframe tbody tr th:only-of-type {\n",
       "        vertical-align: middle;\n",
       "    }\n",
       "\n",
       "    .dataframe tbody tr th {\n",
       "        vertical-align: top;\n",
       "    }\n",
       "\n",
       "    .dataframe thead th {\n",
       "        text-align: right;\n",
       "    }\n",
       "</style>\n",
       "<table border=\"1\" class=\"dataframe\">\n",
       "  <thead>\n",
       "    <tr style=\"text-align: right;\">\n",
       "      <th></th>\n",
       "      <th>Course Name</th>\n",
       "      <th>Difficulty Level</th>\n",
       "      <th>Course Description</th>\n",
       "      <th>Skills</th>\n",
       "      <th>tags</th>\n",
       "    </tr>\n",
       "  </thead>\n",
       "  <tbody>\n",
       "    <tr>\n",
       "      <th>0</th>\n",
       "      <td>Write,A,Feature,Length,Screenplay,For,Film,Or,...</td>\n",
       "      <td>Beginner</td>\n",
       "      <td>Write,a,Full,Length,Feature,Film,Script,In,thi...</td>\n",
       "      <td>Drama  Comedy  peering  screenwriting  film  D...</td>\n",
       "      <td>Write,A,Feature,Length,Screenplay,For,Film,Or,...</td>\n",
       "    </tr>\n",
       "    <tr>\n",
       "      <th>1</th>\n",
       "      <td>Business,Strategy,Business,Model,Canvas,Analys...</td>\n",
       "      <td>Beginner</td>\n",
       "      <td>By,the,end,of,this,guided,project,you,will,be,...</td>\n",
       "      <td>Finance  business plan  persona user experienc...</td>\n",
       "      <td>Business,Strategy,Business,Model,Canvas,Analys...</td>\n",
       "    </tr>\n",
       "    <tr>\n",
       "      <th>2</th>\n",
       "      <td>Silicon,Thin,Film,Solar,Cells</td>\n",
       "      <td>Advanced</td>\n",
       "      <td>This,course,consists,of,a,general,presentation...</td>\n",
       "      <td>chemistry  physics  Solar Energy  film  lambda...</td>\n",
       "      <td>Silicon,Thin,Film,Solar,CellsAdvancedThis,cour...</td>\n",
       "    </tr>\n",
       "    <tr>\n",
       "      <th>3</th>\n",
       "      <td>Finance,for,Managers</td>\n",
       "      <td>Intermediate</td>\n",
       "      <td>When,it,comes,to,numbers,there,is,always,more,...</td>\n",
       "      <td>accounts receivable  dupont analysis  analysis...</td>\n",
       "      <td>Finance,for,ManagersIntermediateWhen,it,comes,...</td>\n",
       "    </tr>\n",
       "    <tr>\n",
       "      <th>4</th>\n",
       "      <td>Retrieve,Data,using,Single-Table,SQL,Queries</td>\n",
       "      <td>Beginner</td>\n",
       "      <td>In,this,course,you�ll,learn,how,to,effectively...</td>\n",
       "      <td>Data Analysis  select sql  database management...</td>\n",
       "      <td>Retrieve,Data,using,Single-Table,SQL,QueriesBe...</td>\n",
       "    </tr>\n",
       "  </tbody>\n",
       "</table>\n",
       "</div>"
      ],
      "text/plain": [
       "                                         Course Name Difficulty Level  \\\n",
       "0  Write,A,Feature,Length,Screenplay,For,Film,Or,...         Beginner   \n",
       "1  Business,Strategy,Business,Model,Canvas,Analys...         Beginner   \n",
       "2                      Silicon,Thin,Film,Solar,Cells         Advanced   \n",
       "3                               Finance,for,Managers     Intermediate   \n",
       "4       Retrieve,Data,using,Single-Table,SQL,Queries         Beginner   \n",
       "\n",
       "                                  Course Description  \\\n",
       "0  Write,a,Full,Length,Feature,Film,Script,In,thi...   \n",
       "1  By,the,end,of,this,guided,project,you,will,be,...   \n",
       "2  This,course,consists,of,a,general,presentation...   \n",
       "3  When,it,comes,to,numbers,there,is,always,more,...   \n",
       "4  In,this,course,you�ll,learn,how,to,effectively...   \n",
       "\n",
       "                                              Skills  \\\n",
       "0  Drama  Comedy  peering  screenwriting  film  D...   \n",
       "1  Finance  business plan  persona user experienc...   \n",
       "2  chemistry  physics  Solar Energy  film  lambda...   \n",
       "3  accounts receivable  dupont analysis  analysis...   \n",
       "4  Data Analysis  select sql  database management...   \n",
       "\n",
       "                                                tags  \n",
       "0  Write,A,Feature,Length,Screenplay,For,Film,Or,...  \n",
       "1  Business,Strategy,Business,Model,Canvas,Analys...  \n",
       "2  Silicon,Thin,Film,Solar,CellsAdvancedThis,cour...  \n",
       "3  Finance,for,ManagersIntermediateWhen,it,comes,...  \n",
       "4  Retrieve,Data,using,Single-Table,SQL,QueriesBe...  "
      ]
     },
     "execution_count": 24,
     "metadata": {},
     "output_type": "execute_result"
    }
   ],
   "source": [
    "new_data.head(5)"
   ]
  },
  {
   "cell_type": "code",
   "execution_count": 25,
   "id": "0b2f5da0",
   "metadata": {},
   "outputs": [
    {
     "data": {
      "text/plain": [
       "'Business,Strategy,Business,Model,Canvas,Analysis,with,MiroBeginnerBy,the,end,of,this,guided,project,you,will,be,fluent,in,identifying,and,creating,Business,Model,Canvas,solutions,based,on,previous,high-level,analyses,and,research,data.,This,will,enable,you,to,identify,and,map,the,elements,required,for,new,products,and,services.,Furthermore,it,is,essential,for,generating,positive,results,for,your,business,venture.,This,guided,project,is,designed,to,engage,and,harness,your,visionary,and,exploratory,abilities.,You,will,use,proven,models,in,strategy,and,product,development,with,the,Miro,platform,to,explore,and,analyse,your,business,propositions.,,We,will,practice,critically,examining,results,from,previous,analysis,and,research,results,in,deriving,the,values,for,each,of,the,business,model,sections.Finance  business plan  persona user experience  business model canvas  Planning  Business  project  Product Development  presentation  Strategy business business-strategy'"
      ]
     },
     "execution_count": 25,
     "metadata": {},
     "output_type": "execute_result"
    }
   ],
   "source": [
    "new_data['tags'].iloc[1]"
   ]
  },
  {
   "cell_type": "markdown",
   "id": "41422944",
   "metadata": {},
   "source": [
    "### Dataframe to be used"
   ]
  },
  {
   "cell_type": "code",
   "execution_count": 26,
   "id": "b4aafd0a",
   "metadata": {},
   "outputs": [],
   "source": [
    "new_df = new_data[['Course Name','tags']]"
   ]
  },
  {
   "cell_type": "code",
   "execution_count": 27,
   "id": "f7bb689d",
   "metadata": {},
   "outputs": [
    {
     "data": {
      "text/html": [
       "<div>\n",
       "<style scoped>\n",
       "    .dataframe tbody tr th:only-of-type {\n",
       "        vertical-align: middle;\n",
       "    }\n",
       "\n",
       "    .dataframe tbody tr th {\n",
       "        vertical-align: top;\n",
       "    }\n",
       "\n",
       "    .dataframe thead th {\n",
       "        text-align: right;\n",
       "    }\n",
       "</style>\n",
       "<table border=\"1\" class=\"dataframe\">\n",
       "  <thead>\n",
       "    <tr style=\"text-align: right;\">\n",
       "      <th></th>\n",
       "      <th>Course Name</th>\n",
       "      <th>tags</th>\n",
       "    </tr>\n",
       "  </thead>\n",
       "  <tbody>\n",
       "    <tr>\n",
       "      <th>0</th>\n",
       "      <td>Write,A,Feature,Length,Screenplay,For,Film,Or,...</td>\n",
       "      <td>Write,A,Feature,Length,Screenplay,For,Film,Or,...</td>\n",
       "    </tr>\n",
       "    <tr>\n",
       "      <th>1</th>\n",
       "      <td>Business,Strategy,Business,Model,Canvas,Analys...</td>\n",
       "      <td>Business,Strategy,Business,Model,Canvas,Analys...</td>\n",
       "    </tr>\n",
       "    <tr>\n",
       "      <th>2</th>\n",
       "      <td>Silicon,Thin,Film,Solar,Cells</td>\n",
       "      <td>Silicon,Thin,Film,Solar,CellsAdvancedThis,cour...</td>\n",
       "    </tr>\n",
       "    <tr>\n",
       "      <th>3</th>\n",
       "      <td>Finance,for,Managers</td>\n",
       "      <td>Finance,for,ManagersIntermediateWhen,it,comes,...</td>\n",
       "    </tr>\n",
       "    <tr>\n",
       "      <th>4</th>\n",
       "      <td>Retrieve,Data,using,Single-Table,SQL,Queries</td>\n",
       "      <td>Retrieve,Data,using,Single-Table,SQL,QueriesBe...</td>\n",
       "    </tr>\n",
       "  </tbody>\n",
       "</table>\n",
       "</div>"
      ],
      "text/plain": [
       "                                         Course Name  \\\n",
       "0  Write,A,Feature,Length,Screenplay,For,Film,Or,...   \n",
       "1  Business,Strategy,Business,Model,Canvas,Analys...   \n",
       "2                      Silicon,Thin,Film,Solar,Cells   \n",
       "3                               Finance,for,Managers   \n",
       "4       Retrieve,Data,using,Single-Table,SQL,Queries   \n",
       "\n",
       "                                                tags  \n",
       "0  Write,A,Feature,Length,Screenplay,For,Film,Or,...  \n",
       "1  Business,Strategy,Business,Model,Canvas,Analys...  \n",
       "2  Silicon,Thin,Film,Solar,CellsAdvancedThis,cour...  \n",
       "3  Finance,for,ManagersIntermediateWhen,it,comes,...  \n",
       "4  Retrieve,Data,using,Single-Table,SQL,QueriesBe...  "
      ]
     },
     "execution_count": 27,
     "metadata": {},
     "output_type": "execute_result"
    }
   ],
   "source": [
    "new_df.head(5)"
   ]
  },
  {
   "cell_type": "code",
   "execution_count": 28,
   "id": "5ef3b1c9",
   "metadata": {},
   "outputs": [
    {
     "name": "stderr",
     "output_type": "stream",
     "text": [
      "C:\\Users\\aniku\\AppData\\Local\\Temp\\ipykernel_7668\\1713325443.py:1: SettingWithCopyWarning: \n",
      "A value is trying to be set on a copy of a slice from a DataFrame.\n",
      "Try using .loc[row_indexer,col_indexer] = value instead\n",
      "\n",
      "See the caveats in the documentation: https://pandas.pydata.org/pandas-docs/stable/user_guide/indexing.html#returning-a-view-versus-a-copy\n",
      "  new_df['tags'] = new_data['tags'].str.replace(',',' ')\n"
     ]
    }
   ],
   "source": [
    "new_df['tags'] = new_data['tags'].str.replace(',',' ')"
   ]
  },
  {
   "cell_type": "code",
   "execution_count": 29,
   "id": "310e4bd5",
   "metadata": {},
   "outputs": [
    {
     "name": "stderr",
     "output_type": "stream",
     "text": [
      "C:\\Users\\aniku\\AppData\\Local\\Temp\\ipykernel_7668\\676687648.py:1: SettingWithCopyWarning: \n",
      "A value is trying to be set on a copy of a slice from a DataFrame.\n",
      "Try using .loc[row_indexer,col_indexer] = value instead\n",
      "\n",
      "See the caveats in the documentation: https://pandas.pydata.org/pandas-docs/stable/user_guide/indexing.html#returning-a-view-versus-a-copy\n",
      "  new_df['Course Name'] = new_data['Course Name'].str.replace(',',' ')\n"
     ]
    }
   ],
   "source": [
    "new_df['Course Name'] = new_data['Course Name'].str.replace(',',' ')"
   ]
  },
  {
   "cell_type": "code",
   "execution_count": 30,
   "id": "ee77f115",
   "metadata": {},
   "outputs": [
    {
     "name": "stderr",
     "output_type": "stream",
     "text": [
      "C:\\Users\\aniku\\AppData\\Local\\Temp\\ipykernel_7668\\2809988695.py:1: SettingWithCopyWarning: \n",
      "A value is trying to be set on a copy of a slice from a DataFrame\n",
      "\n",
      "See the caveats in the documentation: https://pandas.pydata.org/pandas-docs/stable/user_guide/indexing.html#returning-a-view-versus-a-copy\n",
      "  new_df.rename(columns = {'Course Name':'course_name'}, inplace = True)\n"
     ]
    }
   ],
   "source": [
    "new_df.rename(columns = {'Course Name':'course_name'}, inplace = True)"
   ]
  },
  {
   "cell_type": "code",
   "execution_count": 31,
   "id": "338a09fe",
   "metadata": {},
   "outputs": [
    {
     "name": "stderr",
     "output_type": "stream",
     "text": [
      "C:\\Users\\aniku\\AppData\\Local\\Temp\\ipykernel_7668\\3214958533.py:1: SettingWithCopyWarning: \n",
      "A value is trying to be set on a copy of a slice from a DataFrame.\n",
      "Try using .loc[row_indexer,col_indexer] = value instead\n",
      "\n",
      "See the caveats in the documentation: https://pandas.pydata.org/pandas-docs/stable/user_guide/indexing.html#returning-a-view-versus-a-copy\n",
      "  new_df['tags'] = new_df['tags'].apply(lambda x:x.lower())\n"
     ]
    }
   ],
   "source": [
    "new_df['tags'] = new_df['tags'].apply(lambda x:x.lower())"
   ]
  },
  {
   "cell_type": "code",
   "execution_count": 32,
   "id": "4e3d4909",
   "metadata": {},
   "outputs": [
    {
     "data": {
      "text/html": [
       "<div>\n",
       "<style scoped>\n",
       "    .dataframe tbody tr th:only-of-type {\n",
       "        vertical-align: middle;\n",
       "    }\n",
       "\n",
       "    .dataframe tbody tr th {\n",
       "        vertical-align: top;\n",
       "    }\n",
       "\n",
       "    .dataframe thead th {\n",
       "        text-align: right;\n",
       "    }\n",
       "</style>\n",
       "<table border=\"1\" class=\"dataframe\">\n",
       "  <thead>\n",
       "    <tr style=\"text-align: right;\">\n",
       "      <th></th>\n",
       "      <th>course_name</th>\n",
       "      <th>tags</th>\n",
       "    </tr>\n",
       "  </thead>\n",
       "  <tbody>\n",
       "    <tr>\n",
       "      <th>0</th>\n",
       "      <td>Write A Feature Length Screenplay For Film Or ...</td>\n",
       "      <td>write a feature length screenplay for film or ...</td>\n",
       "    </tr>\n",
       "    <tr>\n",
       "      <th>1</th>\n",
       "      <td>Business Strategy Business Model Canvas Analys...</td>\n",
       "      <td>business strategy business model canvas analys...</td>\n",
       "    </tr>\n",
       "    <tr>\n",
       "      <th>2</th>\n",
       "      <td>Silicon Thin Film Solar Cells</td>\n",
       "      <td>silicon thin film solar cellsadvancedthis cour...</td>\n",
       "    </tr>\n",
       "    <tr>\n",
       "      <th>3</th>\n",
       "      <td>Finance for Managers</td>\n",
       "      <td>finance for managersintermediatewhen it comes ...</td>\n",
       "    </tr>\n",
       "    <tr>\n",
       "      <th>4</th>\n",
       "      <td>Retrieve Data using Single-Table SQL Queries</td>\n",
       "      <td>retrieve data using single-table sql queriesbe...</td>\n",
       "    </tr>\n",
       "  </tbody>\n",
       "</table>\n",
       "</div>"
      ],
      "text/plain": [
       "                                         course_name  \\\n",
       "0  Write A Feature Length Screenplay For Film Or ...   \n",
       "1  Business Strategy Business Model Canvas Analys...   \n",
       "2                      Silicon Thin Film Solar Cells   \n",
       "3                               Finance for Managers   \n",
       "4       Retrieve Data using Single-Table SQL Queries   \n",
       "\n",
       "                                                tags  \n",
       "0  write a feature length screenplay for film or ...  \n",
       "1  business strategy business model canvas analys...  \n",
       "2  silicon thin film solar cellsadvancedthis cour...  \n",
       "3  finance for managersintermediatewhen it comes ...  \n",
       "4  retrieve data using single-table sql queriesbe...  "
      ]
     },
     "execution_count": 32,
     "metadata": {},
     "output_type": "execute_result"
    }
   ],
   "source": [
    "new_df.head(5)"
   ]
  },
  {
   "cell_type": "code",
   "execution_count": 33,
   "id": "364003e2",
   "metadata": {},
   "outputs": [
    {
     "data": {
      "text/plain": [
       "(3522, 2)"
      ]
     },
     "execution_count": 33,
     "metadata": {},
     "output_type": "execute_result"
    }
   ],
   "source": [
    "new_df.shape"
   ]
  },
  {
   "cell_type": "code",
   "execution_count": 34,
   "id": "68df6fa9",
   "metadata": {},
   "outputs": [
    {
     "data": {
      "text/plain": [
       "Index(['course_name', 'tags'], dtype='object')"
      ]
     },
     "execution_count": 34,
     "metadata": {},
     "output_type": "execute_result"
    }
   ],
   "source": [
    "new_df.columns"
   ]
  },
  {
   "cell_type": "code",
   "execution_count": 35,
   "id": "8d383c46",
   "metadata": {},
   "outputs": [],
   "source": [
    "new_df.insert(0, 'user_ids', range(1, len(new_df) + 1))"
   ]
  },
  {
   "cell_type": "markdown",
   "id": "a6335caa",
   "metadata": {},
   "source": [
    "## Text Vectorization"
   ]
  },
  {
   "cell_type": "code",
   "execution_count": 36,
   "id": "9d207a66",
   "metadata": {},
   "outputs": [],
   "source": [
    "from sklearn.feature_extraction.text import CountVectorizer"
   ]
  },
  {
   "cell_type": "code",
   "execution_count": 37,
   "id": "f121b1fe",
   "metadata": {},
   "outputs": [],
   "source": [
    "cv = CountVectorizer(max_features=5000,stop_words='english')"
   ]
  },
  {
   "cell_type": "code",
   "execution_count": 38,
   "id": "f8a40a08",
   "metadata": {},
   "outputs": [],
   "source": [
    "vectors = cv.fit_transform(new_df['tags']).toarray()"
   ]
  },
  {
   "cell_type": "markdown",
   "id": "a6807c48",
   "metadata": {},
   "source": [
    "### Stemming Process"
   ]
  },
  {
   "cell_type": "code",
   "execution_count": 39,
   "id": "ed18bd26",
   "metadata": {},
   "outputs": [],
   "source": [
    "import nltk"
   ]
  },
  {
   "cell_type": "code",
   "execution_count": 40,
   "id": "b2be76d6",
   "metadata": {},
   "outputs": [],
   "source": [
    "from nltk.stem.porter import PorterStemmer\n",
    "ps = PorterStemmer()"
   ]
  },
  {
   "cell_type": "code",
   "execution_count": 41,
   "id": "1eddfee5",
   "metadata": {},
   "outputs": [],
   "source": [
    "#defining the stemming function\n",
    "def stem(text):\n",
    "    y=[]\n",
    "\n",
    "    for i in text.split():\n",
    "        y.append(ps.stem(i))\n",
    "\n",
    "    return \" \".join(y)"
   ]
  },
  {
   "cell_type": "code",
   "execution_count": 42,
   "id": "eac16643",
   "metadata": {},
   "outputs": [
    {
     "name": "stderr",
     "output_type": "stream",
     "text": [
      "C:\\Users\\aniku\\AppData\\Local\\Temp\\ipykernel_7668\\3741851974.py:1: SettingWithCopyWarning: \n",
      "A value is trying to be set on a copy of a slice from a DataFrame.\n",
      "Try using .loc[row_indexer,col_indexer] = value instead\n",
      "\n",
      "See the caveats in the documentation: https://pandas.pydata.org/pandas-docs/stable/user_guide/indexing.html#returning-a-view-versus-a-copy\n",
      "  new_df['tags'] = new_df['tags'].apply(stem) #applying stemming on the tags column\n"
     ]
    }
   ],
   "source": [
    "new_df['tags'] = new_df['tags'].apply(stem) #applying stemming on the tags column"
   ]
  },
  {
   "cell_type": "markdown",
   "id": "a2a33119",
   "metadata": {},
   "source": [
    "### Similarity Measure"
   ]
  },
  {
   "cell_type": "code",
   "execution_count": 43,
   "id": "29e82946",
   "metadata": {},
   "outputs": [],
   "source": [
    "from sklearn.metrics.pairwise import cosine_similarity"
   ]
  },
  {
   "cell_type": "code",
   "execution_count": 44,
   "id": "d4206c2c",
   "metadata": {},
   "outputs": [],
   "source": [
    "similarity = cosine_similarity(vectors)"
   ]
  },
  {
   "cell_type": "markdown",
   "id": "9fad7d47",
   "metadata": {},
   "source": [
    "### Recommendation Function"
   ]
  },
  {
   "cell_type": "code",
   "execution_count": 45,
   "id": "7ab90386",
   "metadata": {},
   "outputs": [],
   "source": [
    "def recommend(course):\n",
    "    course_index = new_df[new_df['course_name'] == course].index[0]\n",
    "    distances = similarity[course_index]\n",
    "    course_list = sorted(list(enumerate(distances)),reverse=True, key=lambda x:x[1])[1:7]\n",
    "\n",
    "    for i in course_list:\n",
    "        print(new_df.iloc[i[0]].course_name)"
   ]
  },
  {
   "cell_type": "code",
   "execution_count": 46,
   "id": "9e8dc676",
   "metadata": {},
   "outputs": [
    {
     "name": "stdout",
     "output_type": "stream",
     "text": [
      "Product Development Customer Persona Development with Miro\n",
      "Product and Service Development Empathy Mapping with Miro\n",
      "Product Development Customer Journey Mapping with Miro\n",
      "Analyzing Macro-Environmental Factors Using Creately\n",
      "Business Strategy in Practice (Project-centered Course)\n",
      "Innovating with the Business Model Canvas\n"
     ]
    }
   ],
   "source": [
    "recommend('Business Strategy Business Model Canvas Analysis with Miro')"
   ]
  },
  {
   "cell_type": "code",
   "execution_count": 47,
   "id": "fad82621",
   "metadata": {},
   "outputs": [],
   "source": [
    "# Predict user preferences based on ratings of similar users\n",
    "def sgd(num_iter, Y, U, V, alpha, lambda_reg):\n",
    "  \"\"\"Stochastic gradient descent for collaborative filtering.\n",
    "\n",
    "  Args:\n",
    "    num_iter: Number of iterations to perform.\n",
    "    Y: Matrix of ratings.\n",
    "    U: Matrix of user latent factors.\n",
    "    V: Matrix of item latent factors.\n",
    "    alpha: Learning rate.\n",
    "    lambda_reg: Regularization parameter.\n",
    "\n",
    "  Returns:\n",
    "    U: Updated matrix of user latent factors.\n",
    "    V: Updated matrix of item latent factors.\n",
    "  \"\"\"\n",
    "\n",
    "  for i in range(num_iter):\n",
    "    for j in range(Y.shape[1]):\n",
    "      if Y[i, j] is None:\n",
    "        continue\n",
    "      error = Y[i, j] - np.dot(U[i, :], V[j, :])\n",
    "      U[i, :] -= 2 * alpha * error * V[j, :] - 2 * lambda_reg * U[i, :]\n",
    "      V[j, :] -= 2 * alpha * error * U[i, :] - 2 * lambda_reg * V[j, :]\n",
    "  return U, V"
   ]
  },
  {
   "cell_type": "markdown",
   "id": "82c451e0",
   "metadata": {},
   "source": [
    "## Cosine Similarity"
   ]
  },
  {
   "cell_type": "code",
   "execution_count": 48,
   "id": "6a6647e9",
   "metadata": {},
   "outputs": [
    {
     "name": "stdout",
     "output_type": "stream",
     "text": [
      "Recommended courses for User 1:\n",
      "[4, 9, 35, 77, 79, 88, 89, 98, 3, 6, 7, 16, 18, 20, 39, 44, 67, 71, 78, 81, 90, 91, 5, 17, 19, 21, 29, 43, 45, 46, 55, 57, 64, 70, 92, 8, 40, 49, 52, 56, 58, 60, 61, 62, 65, 69, 72, 73, 94, 96]\n"
     ]
    }
   ],
   "source": [
    "import numpy as np\n",
    "from sklearn.metrics.pairwise import cosine_similarity\n",
    "\n",
    "# Sample user-course interaction matrix\n",
    "# Rows represent users, columns represent courses\n",
    "# In this example, 1 indicates the user has taken the course, 0 indicates no interaction.\n",
    "user_course_matrix = np.random.randint(0, 2, (100, 100))\n",
    "\n",
    "# Calculate cosine similarity between users\n",
    "user_similarity = cosine_similarity(user_course_matrix)\n",
    "\n",
    "# Define a target user for whom we want to make recommendations (e.g., User 1)\n",
    "target_user_index = 1\n",
    "\n",
    "# Find the top N similar users to the target user\n",
    "# You can adjust N based on your recommendation preferences\n",
    "N = 2\n",
    "similar_users_indices = np.argsort(user_similarity[target_user_index])[::-1][1:N+1]\n",
    "\n",
    "# Recommend courses to the target user based on similar users' interactions\n",
    "recommendations = []\n",
    "for course_index in range(user_course_matrix.shape[1]):\n",
    "    if user_course_matrix[target_user_index, course_index] == 0:\n",
    "        course_score = 0\n",
    "        for similar_user_index in similar_users_indices:\n",
    "            course_score += user_course_matrix[similar_user_index, course_index] * user_similarity[target_user_index, similar_user_index]\n",
    "        recommendations.append((course_index, course_score))\n",
    "\n",
    "# Sort recommendations by the course_score in descending order\n",
    "recommendations.sort(key=lambda x: x[1], reverse=True)\n",
    "\n",
    "# Extract course indices from recommendations\n",
    "recommended_courses = [course for course, _ in recommendations]\n",
    "\n",
    "print(\"Recommended courses for User 1:\")\n",
    "print(recommended_courses)\n"
   ]
  },
  {
   "cell_type": "code",
   "execution_count": 49,
   "id": "14211c54",
   "metadata": {},
   "outputs": [
    {
     "name": "stdout",
     "output_type": "stream",
     "text": [
      "Recommended courses for User 1:\n",
      "[78, 9, 64, 98, 43, 81, 44, 88, 19, 29, 45, 73, 5, 20, 7, 77, 6, 71, 91, 39, 56, 57, 4, 69, 94, 55, 8, 46, 65, 17, 52, 60, 79, 67, 92, 89, 96, 72, 40, 16, 35, 21, 70, 18, 58, 90, 62, 61, 3, 49]\n"
     ]
    }
   ],
   "source": [
    "import numpy as np\n",
    "from scipy.linalg import svd\n",
    "\n",
    "# Perform Singular Value Decomposition (SVD)\n",
    "U, S, VT = svd(user_course_matrix )\n",
    "\n",
    "# Choose the number of latent factors (rank)\n",
    "rank = 2\n",
    "U = U[:, :rank]\n",
    "S = np.diag(S[:rank])\n",
    "VT = VT[:rank, :]\n",
    "\n",
    "# Reconstruct the user-course matrix using the reduced matrices\n",
    "user_course_matrix_reconstructed = np.dot(U, np.dot(S, VT))\n",
    "\n",
    "# You can now make recommendations for a target user by finding unrated courses\n",
    "target_user_index = 1\n",
    "unrated_courses = np.where(user_course_matrix[target_user_index] == 0)[0]\n",
    "\n",
    "# Predict ratings for unrated courses for the target user\n",
    "predicted_ratings = np.dot(U[target_user_index, :], np.dot(S, VT))\n",
    "predicted_ratings_for_unrated_courses = predicted_ratings[unrated_courses]\n",
    "\n",
    "# Sort recommendations by predicted ratings in descending order\n",
    "recommendations = [(course, predicted_ratings_for_unrated_courses[i]) for i, course in enumerate(unrated_courses)]\n",
    "recommendations.sort(key=lambda x: x[1], reverse=True)\n",
    "\n",
    "# Extract course indices from recommendations\n",
    "recommended_courses = [course for course, _ in recommendations]\n",
    "\n",
    "print(\"Recommended courses for User 1:\")\n",
    "print(recommended_courses)"
   ]
  },
  {
   "cell_type": "code",
   "execution_count": 50,
   "id": "7d0cc177",
   "metadata": {},
   "outputs": [],
   "source": [
    "import numpy as np\n",
    "from sklearn.model_selection import train_test_split\n",
    "from sklearn.metrics.pairwise import cosine_similarity\n",
    "\n",
    "# Split the user-course interaction matrix into a training set and a test set\n",
    "user_course_matrix_train, user_course_matrix_test = train_test_split(user_course_matrix, test_size=0.25, random_state=42)\n",
    "\n",
    "# Train the cosine similarity model on the training set\n",
    "user_similarity = cosine_similarity(user_course_matrix_train)\n",
    "\n",
    "# Calculate the predicted ratings for the unrated courses in the test set\n",
    "target_user_index = 2\n",
    "unrated_courses = np.where(user_course_matrix_test[target_user_index] == 0)[0]\n",
    "predicted_ratings = np.einsum('i,j->i', user_similarity[target_user_index, :], user_course_matrix_train.sum(axis=0))"
   ]
  },
  {
   "cell_type": "code",
   "execution_count": 51,
   "id": "5f2dad85",
   "metadata": {},
   "outputs": [
    {
     "name": "stdout",
     "output_type": "stream",
     "text": [
      "Recommended courses for User 2:\n",
      "[4, 72, 57, 35, 79, 85, 15, 61, 5, 81, 42, 62, 87, 67, 37, 9, 6, 17, 63, 68, 73, 3, 56, 86, 99, 78, 71, 59, 51, 66, 77, 50, 0, 74, 16, 10, 64, 95, 89, 43, 29, 22, 83, 76, 84, 97, 88, 23]\n"
     ]
    }
   ],
   "source": [
    "# Sort the predicted ratings in descending order\n",
    "recommendations = [(course, predicted_ratings[i]) for i, course in enumerate(unrated_courses)]\n",
    "recommendations.sort(key=lambda x: x[1], reverse=True)\n",
    "\n",
    "# Extract course indices from recommendations\n",
    "recommended_courses = [course for course, _ in recommendations]\n",
    "\n",
    "# Print the recommendations for user 2\n",
    "print(\"Recommended courses for User 2:\")\n",
    "print(recommended_courses)\n"
   ]
  },
  {
   "cell_type": "markdown",
   "id": "c610b62f",
   "metadata": {},
   "source": [
    "## RMSE Error"
   ]
  },
  {
   "cell_type": "code",
   "execution_count": 52,
   "id": "eb9cbf28",
   "metadata": {},
   "outputs": [
    {
     "name": "stdout",
     "output_type": "stream",
     "text": [
      "RMSE error: 0.4930674839801901\n"
     ]
    }
   ],
   "source": [
    "import numpy as np\n",
    "\n",
    "# Calculate the RMSE error\n",
    "def rmse(actual_ratings, predicted_ratings):\n",
    "  differences = actual_ratings - predicted_ratings\n",
    "  squared_differences = np.square(differences)\n",
    "  mean_squared_difference = np.mean(squared_differences)\n",
    "  rmse = np.sqrt(mean_squared_difference)\n",
    "  return rmse\n",
    "\n",
    "# Compute the RMSE error for the target user\n",
    "target_user_index = 1\n",
    "unrated_courses = np.where(user_course_matrix[target_user_index] == 0)[0]\n",
    "actual_ratings = user_course_matrix[target_user_index, unrated_courses]\n",
    "predicted_ratings = user_course_matrix_reconstructed[target_user_index, unrated_courses]\n",
    "rmse_error = rmse(actual_ratings, predicted_ratings)\n",
    "\n",
    "# Print the RMSE error\n",
    "print(\"RMSE error:\", rmse_error)\n"
   ]
  },
  {
   "cell_type": "markdown",
   "id": "8a746403",
   "metadata": {},
   "source": [
    "## Recommendation for User 3, User 4, User 5"
   ]
  },
  {
   "cell_type": "code",
   "execution_count": 53,
   "id": "4274543d",
   "metadata": {},
   "outputs": [],
   "source": [
    "import numpy as np\n",
    "from sklearn.model_selection import train_test_split\n",
    "from sklearn.metrics.pairwise import cosine_similarity\n",
    "\n",
    "# Split the user-course interaction matrix into a training set and a test set\n",
    "user_course_matrix_train, user_course_matrix_test = train_test_split(user_course_matrix, test_size=0.25, random_state=42)\n",
    "\n",
    "# Train the cosine similarity model on the training set\n",
    "user_similarity = cosine_similarity(user_course_matrix_train)\n"
   ]
  },
  {
   "cell_type": "code",
   "execution_count": 54,
   "id": "822e4f58",
   "metadata": {},
   "outputs": [],
   "source": [
    "# Calculate the predicted ratings for the unrated courses for user 3\n",
    "target_user_index = 3\n",
    "unrated_courses = np.where(user_course_matrix_test[target_user_index] == 0)[0]\n",
    "predicted_ratings_for_user_3 = np.einsum('i,j->i', user_similarity[target_user_index, :], user_course_matrix_train.sum(axis=0))\n",
    "\n",
    "# Calculate the predicted ratings for the unrated courses for user 4\n",
    "target_user_index = 4\n",
    "unrated_courses = np.where(user_course_matrix_test[target_user_index] == 0)[0]\n",
    "predicted_ratings_for_user_4 = np.einsum('i,j->i', user_similarity[target_user_index, :], user_course_matrix_train.sum(axis=0))\n",
    "\n",
    "# Calculate the predicted ratings for the unrated courses for user 5\n",
    "target_user_index = 5\n",
    "unrated_courses = np.where(user_course_matrix_test[target_user_index] == 0)[0]\n",
    "predicted_ratings_for_user_5 = np.einsum('i,j->i', user_similarity[target_user_index, :], user_course_matrix_train.sum(axis=0))\n"
   ]
  },
  {
   "cell_type": "code",
   "execution_count": 55,
   "id": "0e3b85ce",
   "metadata": {},
   "outputs": [
    {
     "name": "stdout",
     "output_type": "stream",
     "text": [
      "Recommended courses for User 3:\n",
      "[8, 4, 23, 1, 22, 44, 51, 37, 96, 58, 60, 39, 5, 75, 81, 82, 94, 50, 61, 34, 46, 10, 56, 86, 35, 41, 33, 71, 13, 18, 15, 98, 36, 84, 26, 30]\n",
      "Recommended courses for User 4:\n",
      "[10, 82, 37, 98, 23, 41, 96, 18, 5, 61, 84, 34, 36, 35, 50, 75, 15, 13, 33, 60, 8, 39, 71, 44, 1, 56, 86, 81, 51, 22, 94, 30, 58, 4, 26, 46]\n",
      "Recommended courses for User 5:\n",
      "[13, 71, 26, 60, 51, 5, 41, 75, 23, 96, 18, 10, 61, 34, 39, 98, 37, 15, 8, 94, 81, 56, 36, 86, 82, 46, 30, 4, 44, 1, 84, 22, 35, 50, 58, 33]\n"
     ]
    }
   ],
   "source": [
    "# Sort the predicted ratings for user 3 in descending order\n",
    "recommendations_for_user_3 = [(course, predicted_ratings_for_user_3[i]) for i, course in enumerate(unrated_courses)]\n",
    "recommendations_for_user_3.sort(key=lambda x: x[1], reverse=True)\n",
    "\n",
    "# Sort the predicted ratings for user 4 in descending order\n",
    "recommendations_for_user_4 = [(course, predicted_ratings_for_user_4[i]) for i, course in enumerate(unrated_courses)]\n",
    "recommendations_for_user_4.sort(key=lambda x: x[1], reverse=True)\n",
    "\n",
    "# Sort the predicted ratings for user 5 in descending order\n",
    "recommendations_for_user_5 = [(course, predicted_ratings_for_user_5[i]) for i, course in enumerate(unrated_courses)]\n",
    "recommendations_for_user_5.sort(key=lambda x: x[1], reverse=True)\n",
    "\n",
    "# Extract course indices from recommendations\n",
    "recommended_courses_for_user_3 = [course for course, _ in recommendations_for_user_3]\n",
    "recommended_courses_for_user_4 = [course for course, _ in recommendations_for_user_4]\n",
    "recommended_courses_for_user_5 = [course for course, _ in recommendations_for_user_5]\n",
    "\n",
    "# Print the recommendations for each user\n",
    "print(\"Recommended courses for User 3:\")\n",
    "print(recommended_courses_for_user_3)\n",
    "\n",
    "print(\"Recommended courses for User 4:\")\n",
    "print(recommended_courses_for_user_4)\n",
    "\n",
    "print(\"Recommended courses for User 5:\")\n",
    "print(recommended_courses_for_user_5)\n"
   ]
  },
  {
   "cell_type": "code",
   "execution_count": 56,
   "id": "eb711740",
   "metadata": {},
   "outputs": [
    {
     "data": {
      "text/plain": [
       "Beginner          1444\n",
       "Advanced          1005\n",
       "Intermediate       837\n",
       "Conversant         186\n",
       "Not Calibrated      50\n",
       "Name: Difficulty Level, dtype: int64"
      ]
     },
     "execution_count": 56,
     "metadata": {},
     "output_type": "execute_result"
    }
   ],
   "source": [
    "data['Difficulty Level'].value_counts()"
   ]
  },
  {
   "cell_type": "code",
   "execution_count": 57,
   "id": "9a69d67b",
   "metadata": {},
   "outputs": [
    {
     "data": {
      "text/plain": [
       "4.7               740\n",
       "4.6               623\n",
       "4.8               598\n",
       "4.5               389\n",
       "4.4               242\n",
       "4.9               180\n",
       "4.3               165\n",
       "4.2               121\n",
       "5                  90\n",
       "4.1                85\n",
       "Not Calibrated     82\n",
       "4                  51\n",
       "3.8                24\n",
       "3.9                20\n",
       "3.6                18\n",
       "3.7                18\n",
       "3.5                17\n",
       "3.4                13\n",
       "3                  12\n",
       "3.2                 9\n",
       "3.3                 6\n",
       "2.9                 6\n",
       "2.6                 2\n",
       "2.8                 2\n",
       "2.4                 2\n",
       "1                   2\n",
       "2                   1\n",
       "3.1                 1\n",
       "2.5                 1\n",
       "1.9                 1\n",
       "2.3                 1\n",
       "Name: Course Rating, dtype: int64"
      ]
     },
     "execution_count": 57,
     "metadata": {},
     "output_type": "execute_result"
    }
   ],
   "source": [
    "data['Course Rating'].value_counts()"
   ]
  },
  {
   "cell_type": "code",
   "execution_count": 58,
   "id": "a703bd36",
   "metadata": {},
   "outputs": [
    {
     "data": {
      "text/plain": [
       "Coursera Project Network                      562\n",
       "University of Illinois at Urbana-Champaign    138\n",
       "Johns Hopkins University                      110\n",
       "University of Michigan                        101\n",
       "University of Colorado Boulder                101\n",
       "                                             ... \n",
       "GitLab                                          1\n",
       "Yeshiva University                              1\n",
       "University of Glasgow                           1\n",
       "Laureate Education                              1\n",
       "The World Bank Group                            1\n",
       "Name: University, Length: 184, dtype: int64"
      ]
     },
     "execution_count": 58,
     "metadata": {},
     "output_type": "execute_result"
    }
   ],
   "source": [
    "data['University'].value_counts()"
   ]
  },
  {
   "cell_type": "code",
   "execution_count": 59,
   "id": "32ec571f",
   "metadata": {},
   "outputs": [
    {
     "name": "stdout",
     "output_type": "stream",
     "text": [
      "1\n",
      "Not Calibrated\n",
      "31\n"
     ]
    }
   ],
   "source": [
    "min_rating = min(data['Course Rating'])\n",
    "print(min_rating)\n",
    "\n",
    "max_rating= max(data['Course Rating'])\n",
    "print(max_rating)\n",
    "\n",
    "list_of_users = [740, 623, 598, 389, 242, 180, 165, 121, 90, 85, 82, 51, 24, 20, 18, 18, 17, 13, 12, 9, 6, 6, 2, 2, 2, 2, 2, 1, 1, 1, 1]\n",
    "\n",
    "# Count the number of users using the len() function\n",
    "num_of_users = len(list_of_users)\n",
    "\n",
    "# Print the number of users\n",
    "print(num_of_users)"
   ]
  },
  {
   "cell_type": "code",
   "execution_count": 60,
   "id": "6ba7767d",
   "metadata": {},
   "outputs": [
    {
     "name": "stdout",
     "output_type": "stream",
     "text": [
      "Requirement already satisfied: scikit-surprise in c:\\users\\aniku\\anaconda3\\lib\\site-packages (1.1.3)\n",
      "Requirement already satisfied: joblib>=1.0.0 in c:\\users\\aniku\\anaconda3\\lib\\site-packages (from scikit-surprise) (1.2.0)\n",
      "Requirement already satisfied: numpy>=1.17.3 in c:\\users\\aniku\\anaconda3\\lib\\site-packages (from scikit-surprise) (1.24.3)\n",
      "Requirement already satisfied: scipy>=1.3.2 in c:\\users\\aniku\\anaconda3\\lib\\site-packages (from scikit-surprise) (1.10.1)\n"
     ]
    }
   ],
   "source": [
    "!pip install scikit-surprise"
   ]
  },
  {
   "cell_type": "markdown",
   "id": "9b5d671e",
   "metadata": {},
   "source": [
    "## SVD Algorithm"
   ]
  },
  {
   "cell_type": "code",
   "execution_count": 61,
   "id": "78b64029",
   "metadata": {},
   "outputs": [
    {
     "name": "stdout",
     "output_type": "stream",
     "text": [
      "Recommended courses for User1:\n",
      "['Course1', 'Course2', 'Course3']\n"
     ]
    }
   ],
   "source": [
    "import numpy as np\n",
    "import pandas as pd\n",
    "from surprise import Dataset, Reader\n",
    "from surprise import SVD\n",
    "from surprise.model_selection import train_test_split\n",
    "\n",
    "# Sample data in the form of user, course, and rating (or interaction)\n",
    "user_course_matrix = np.random.randint(0, 2, (100, 100))\n",
    "\n",
    "# Convert the data to a Pandas DataFrame\n",
    "df = pd.DataFrame(user_course_matrix)\n",
    "\n",
    "# Define the Reader object (specify the rating scale)\n",
    "reader = Reader(rating_scale=(0, 1))\n",
    "\n",
    "# Load the dataset\n",
    "data = Dataset.load_from_df(df.stack().reset_index(), reader)\n",
    "\n",
    "# Split the dataset into training and testing sets\n",
    "trainset, testset = train_test_split(data, test_size=0.2)\n",
    "\n",
    "# Create an SVD model (Matrix Factorization)\n",
    "model = SVD()\n",
    "\n",
    "# Train the model on the training data\n",
    "model.fit(trainset)\n",
    "\n",
    "# Make predictions for the test set\n",
    "predictions = model.test(testset)\n",
    "\n",
    "# Recommend courses for a target user (User1)\n",
    "target_user = 'User1'\n",
    "all_courses = ['Course1', 'Course2', 'Course3']\n",
    "\n",
    "# Get a list of courses the target user has not rated\n",
    "unrated_courses = [course for course in all_courses if all((target_user, course, _) not in data.raw_ratings for _ in range(1, 6))]\n",
    "\n",
    "# Predict ratings for unrated courses and sort by predicted rating\n",
    "predicted_ratings = [(course, model.predict(target_user, course).est) for course in unrated_courses]\n",
    "predicted_ratings.sort(key=lambda x: x[1], reverse=True)\n",
    "\n",
    "# Extract course names from recommendations\n",
    "recommended_courses = [course for course, _ in predicted_ratings]\n",
    "\n",
    "print(f\"Recommended courses for {target_user}:\")\n",
    "print(recommended_courses)\n"
   ]
  },
  {
   "cell_type": "code",
   "execution_count": 62,
   "id": "da66c20d",
   "metadata": {},
   "outputs": [
    {
     "name": "stdout",
     "output_type": "stream",
     "text": [
      "RMSE: 0.5146\n",
      "Root Mean Squared Error (RMSE): 0.514620047603588\n"
     ]
    }
   ],
   "source": [
    "from surprise import accuracy\n",
    "\n",
    "# Calculate RMSE\n",
    "rmse = accuracy.rmse(predictions)\n",
    "\n",
    "print(f'Root Mean Squared Error (RMSE): {rmse}')"
   ]
  },
  {
   "cell_type": "code",
   "execution_count": 63,
   "id": "6d4dd3b6",
   "metadata": {},
   "outputs": [
    {
     "ename": "ValueError",
     "evalue": "could not convert string to float: 'Not Calibrated'",
     "output_type": "error",
     "traceback": [
      "\u001b[1;31m---------------------------------------------------------------------------\u001b[0m",
      "\u001b[1;31mValueError\u001b[0m                                Traceback (most recent call last)",
      "Cell \u001b[1;32mIn[63], line 15\u001b[0m\n\u001b[0;32m     13\u001b[0m df[\u001b[38;5;124m'\u001b[39m\u001b[38;5;124mUniversity\u001b[39m\u001b[38;5;124m'\u001b[39m] \u001b[38;5;241m=\u001b[39m df[\u001b[38;5;124m'\u001b[39m\u001b[38;5;124mUniversity\u001b[39m\u001b[38;5;124m'\u001b[39m]\u001b[38;5;241m.\u001b[39mastype(\u001b[38;5;124m'\u001b[39m\u001b[38;5;124mcategory\u001b[39m\u001b[38;5;124m'\u001b[39m)\u001b[38;5;241m.\u001b[39mcat\u001b[38;5;241m.\u001b[39mcodes\n\u001b[0;32m     14\u001b[0m df[\u001b[38;5;124m'\u001b[39m\u001b[38;5;124mDifficulty Level\u001b[39m\u001b[38;5;124m'\u001b[39m] \u001b[38;5;241m=\u001b[39m df[\u001b[38;5;124m'\u001b[39m\u001b[38;5;124mDifficulty Level\u001b[39m\u001b[38;5;124m'\u001b[39m]\u001b[38;5;241m.\u001b[39mastype(\u001b[38;5;124m'\u001b[39m\u001b[38;5;124mcategory\u001b[39m\u001b[38;5;124m'\u001b[39m)\u001b[38;5;241m.\u001b[39mcat\u001b[38;5;241m.\u001b[39mcodes\n\u001b[1;32m---> 15\u001b[0m df[\u001b[38;5;124m'\u001b[39m\u001b[38;5;124mCourse Rating\u001b[39m\u001b[38;5;124m'\u001b[39m] \u001b[38;5;241m=\u001b[39m df[\u001b[38;5;124m'\u001b[39m\u001b[38;5;124mCourse Rating\u001b[39m\u001b[38;5;124m'\u001b[39m]\u001b[38;5;241m.\u001b[39mastype(\u001b[38;5;28mfloat\u001b[39m)\n\u001b[0;32m     17\u001b[0m \u001b[38;5;66;03m# Step 2: Define User-Item Interaction Matrix\u001b[39;00m\n\u001b[0;32m     18\u001b[0m user_item_matrix \u001b[38;5;241m=\u001b[39m df\u001b[38;5;241m.\u001b[39mpivot(index\u001b[38;5;241m=\u001b[39m\u001b[38;5;124m'\u001b[39m\u001b[38;5;124mUser\u001b[39m\u001b[38;5;124m'\u001b[39m, columns\u001b[38;5;241m=\u001b[39m\u001b[38;5;124m'\u001b[39m\u001b[38;5;124mCourse Name\u001b[39m\u001b[38;5;124m'\u001b[39m, values\u001b[38;5;241m=\u001b[39m\u001b[38;5;124m'\u001b[39m\u001b[38;5;124mCourse Rating\u001b[39m\u001b[38;5;124m'\u001b[39m)\u001b[38;5;241m.\u001b[39mfillna(\u001b[38;5;241m0\u001b[39m)\u001b[38;5;241m.\u001b[39mvalues\n",
      "File \u001b[1;32m~\\anaconda3\\Lib\\site-packages\\pandas\\core\\generic.py:6240\u001b[0m, in \u001b[0;36mNDFrame.astype\u001b[1;34m(self, dtype, copy, errors)\u001b[0m\n\u001b[0;32m   6233\u001b[0m     results \u001b[38;5;241m=\u001b[39m [\n\u001b[0;32m   6234\u001b[0m         \u001b[38;5;28mself\u001b[39m\u001b[38;5;241m.\u001b[39miloc[:, i]\u001b[38;5;241m.\u001b[39mastype(dtype, copy\u001b[38;5;241m=\u001b[39mcopy)\n\u001b[0;32m   6235\u001b[0m         \u001b[38;5;28;01mfor\u001b[39;00m i \u001b[38;5;129;01min\u001b[39;00m \u001b[38;5;28mrange\u001b[39m(\u001b[38;5;28mlen\u001b[39m(\u001b[38;5;28mself\u001b[39m\u001b[38;5;241m.\u001b[39mcolumns))\n\u001b[0;32m   6236\u001b[0m     ]\n\u001b[0;32m   6238\u001b[0m \u001b[38;5;28;01melse\u001b[39;00m:\n\u001b[0;32m   6239\u001b[0m     \u001b[38;5;66;03m# else, only a single dtype is given\u001b[39;00m\n\u001b[1;32m-> 6240\u001b[0m     new_data \u001b[38;5;241m=\u001b[39m \u001b[38;5;28mself\u001b[39m\u001b[38;5;241m.\u001b[39m_mgr\u001b[38;5;241m.\u001b[39mastype(dtype\u001b[38;5;241m=\u001b[39mdtype, copy\u001b[38;5;241m=\u001b[39mcopy, errors\u001b[38;5;241m=\u001b[39merrors)\n\u001b[0;32m   6241\u001b[0m     \u001b[38;5;28;01mreturn\u001b[39;00m \u001b[38;5;28mself\u001b[39m\u001b[38;5;241m.\u001b[39m_constructor(new_data)\u001b[38;5;241m.\u001b[39m__finalize__(\u001b[38;5;28mself\u001b[39m, method\u001b[38;5;241m=\u001b[39m\u001b[38;5;124m\"\u001b[39m\u001b[38;5;124mastype\u001b[39m\u001b[38;5;124m\"\u001b[39m)\n\u001b[0;32m   6243\u001b[0m \u001b[38;5;66;03m# GH 33113: handle empty frame or series\u001b[39;00m\n",
      "File \u001b[1;32m~\\anaconda3\\Lib\\site-packages\\pandas\\core\\internals\\managers.py:448\u001b[0m, in \u001b[0;36mBaseBlockManager.astype\u001b[1;34m(self, dtype, copy, errors)\u001b[0m\n\u001b[0;32m    447\u001b[0m \u001b[38;5;28;01mdef\u001b[39;00m \u001b[38;5;21mastype\u001b[39m(\u001b[38;5;28mself\u001b[39m: T, dtype, copy: \u001b[38;5;28mbool\u001b[39m \u001b[38;5;241m=\u001b[39m \u001b[38;5;28;01mFalse\u001b[39;00m, errors: \u001b[38;5;28mstr\u001b[39m \u001b[38;5;241m=\u001b[39m \u001b[38;5;124m\"\u001b[39m\u001b[38;5;124mraise\u001b[39m\u001b[38;5;124m\"\u001b[39m) \u001b[38;5;241m-\u001b[39m\u001b[38;5;241m>\u001b[39m T:\n\u001b[1;32m--> 448\u001b[0m     \u001b[38;5;28;01mreturn\u001b[39;00m \u001b[38;5;28mself\u001b[39m\u001b[38;5;241m.\u001b[39mapply(\u001b[38;5;124m\"\u001b[39m\u001b[38;5;124mastype\u001b[39m\u001b[38;5;124m\"\u001b[39m, dtype\u001b[38;5;241m=\u001b[39mdtype, copy\u001b[38;5;241m=\u001b[39mcopy, errors\u001b[38;5;241m=\u001b[39merrors)\n",
      "File \u001b[1;32m~\\anaconda3\\Lib\\site-packages\\pandas\\core\\internals\\managers.py:352\u001b[0m, in \u001b[0;36mBaseBlockManager.apply\u001b[1;34m(self, f, align_keys, ignore_failures, **kwargs)\u001b[0m\n\u001b[0;32m    350\u001b[0m         applied \u001b[38;5;241m=\u001b[39m b\u001b[38;5;241m.\u001b[39mapply(f, \u001b[38;5;241m*\u001b[39m\u001b[38;5;241m*\u001b[39mkwargs)\n\u001b[0;32m    351\u001b[0m     \u001b[38;5;28;01melse\u001b[39;00m:\n\u001b[1;32m--> 352\u001b[0m         applied \u001b[38;5;241m=\u001b[39m \u001b[38;5;28mgetattr\u001b[39m(b, f)(\u001b[38;5;241m*\u001b[39m\u001b[38;5;241m*\u001b[39mkwargs)\n\u001b[0;32m    353\u001b[0m \u001b[38;5;28;01mexcept\u001b[39;00m (\u001b[38;5;167;01mTypeError\u001b[39;00m, \u001b[38;5;167;01mNotImplementedError\u001b[39;00m):\n\u001b[0;32m    354\u001b[0m     \u001b[38;5;28;01mif\u001b[39;00m \u001b[38;5;129;01mnot\u001b[39;00m ignore_failures:\n",
      "File \u001b[1;32m~\\anaconda3\\Lib\\site-packages\\pandas\\core\\internals\\blocks.py:526\u001b[0m, in \u001b[0;36mBlock.astype\u001b[1;34m(self, dtype, copy, errors)\u001b[0m\n\u001b[0;32m    508\u001b[0m \u001b[38;5;250m\u001b[39m\u001b[38;5;124;03m\"\"\"\u001b[39;00m\n\u001b[0;32m    509\u001b[0m \u001b[38;5;124;03mCoerce to the new dtype.\u001b[39;00m\n\u001b[0;32m    510\u001b[0m \n\u001b[1;32m   (...)\u001b[0m\n\u001b[0;32m    522\u001b[0m \u001b[38;5;124;03mBlock\u001b[39;00m\n\u001b[0;32m    523\u001b[0m \u001b[38;5;124;03m\"\"\"\u001b[39;00m\n\u001b[0;32m    524\u001b[0m values \u001b[38;5;241m=\u001b[39m \u001b[38;5;28mself\u001b[39m\u001b[38;5;241m.\u001b[39mvalues\n\u001b[1;32m--> 526\u001b[0m new_values \u001b[38;5;241m=\u001b[39m astype_array_safe(values, dtype, copy\u001b[38;5;241m=\u001b[39mcopy, errors\u001b[38;5;241m=\u001b[39merrors)\n\u001b[0;32m    528\u001b[0m new_values \u001b[38;5;241m=\u001b[39m maybe_coerce_values(new_values)\n\u001b[0;32m    529\u001b[0m newb \u001b[38;5;241m=\u001b[39m \u001b[38;5;28mself\u001b[39m\u001b[38;5;241m.\u001b[39mmake_block(new_values)\n",
      "File \u001b[1;32m~\\anaconda3\\Lib\\site-packages\\pandas\\core\\dtypes\\astype.py:299\u001b[0m, in \u001b[0;36mastype_array_safe\u001b[1;34m(values, dtype, copy, errors)\u001b[0m\n\u001b[0;32m    296\u001b[0m     \u001b[38;5;28;01mreturn\u001b[39;00m values\u001b[38;5;241m.\u001b[39mcopy()\n\u001b[0;32m    298\u001b[0m \u001b[38;5;28;01mtry\u001b[39;00m:\n\u001b[1;32m--> 299\u001b[0m     new_values \u001b[38;5;241m=\u001b[39m astype_array(values, dtype, copy\u001b[38;5;241m=\u001b[39mcopy)\n\u001b[0;32m    300\u001b[0m \u001b[38;5;28;01mexcept\u001b[39;00m (\u001b[38;5;167;01mValueError\u001b[39;00m, \u001b[38;5;167;01mTypeError\u001b[39;00m):\n\u001b[0;32m    301\u001b[0m     \u001b[38;5;66;03m# e.g. astype_nansafe can fail on object-dtype of strings\u001b[39;00m\n\u001b[0;32m    302\u001b[0m     \u001b[38;5;66;03m#  trying to convert to float\u001b[39;00m\n\u001b[0;32m    303\u001b[0m     \u001b[38;5;28;01mif\u001b[39;00m errors \u001b[38;5;241m==\u001b[39m \u001b[38;5;124m\"\u001b[39m\u001b[38;5;124mignore\u001b[39m\u001b[38;5;124m\"\u001b[39m:\n",
      "File \u001b[1;32m~\\anaconda3\\Lib\\site-packages\\pandas\\core\\dtypes\\astype.py:230\u001b[0m, in \u001b[0;36mastype_array\u001b[1;34m(values, dtype, copy)\u001b[0m\n\u001b[0;32m    227\u001b[0m     values \u001b[38;5;241m=\u001b[39m values\u001b[38;5;241m.\u001b[39mastype(dtype, copy\u001b[38;5;241m=\u001b[39mcopy)\n\u001b[0;32m    229\u001b[0m \u001b[38;5;28;01melse\u001b[39;00m:\n\u001b[1;32m--> 230\u001b[0m     values \u001b[38;5;241m=\u001b[39m astype_nansafe(values, dtype, copy\u001b[38;5;241m=\u001b[39mcopy)\n\u001b[0;32m    232\u001b[0m \u001b[38;5;66;03m# in pandas we don't store numpy str dtypes, so convert to object\u001b[39;00m\n\u001b[0;32m    233\u001b[0m \u001b[38;5;28;01mif\u001b[39;00m \u001b[38;5;28misinstance\u001b[39m(dtype, np\u001b[38;5;241m.\u001b[39mdtype) \u001b[38;5;129;01mand\u001b[39;00m \u001b[38;5;28missubclass\u001b[39m(values\u001b[38;5;241m.\u001b[39mdtype\u001b[38;5;241m.\u001b[39mtype, \u001b[38;5;28mstr\u001b[39m):\n",
      "File \u001b[1;32m~\\anaconda3\\Lib\\site-packages\\pandas\\core\\dtypes\\astype.py:170\u001b[0m, in \u001b[0;36mastype_nansafe\u001b[1;34m(arr, dtype, copy, skipna)\u001b[0m\n\u001b[0;32m    166\u001b[0m     \u001b[38;5;28;01mraise\u001b[39;00m \u001b[38;5;167;01mValueError\u001b[39;00m(msg)\n\u001b[0;32m    168\u001b[0m \u001b[38;5;28;01mif\u001b[39;00m copy \u001b[38;5;129;01mor\u001b[39;00m is_object_dtype(arr\u001b[38;5;241m.\u001b[39mdtype) \u001b[38;5;129;01mor\u001b[39;00m is_object_dtype(dtype):\n\u001b[0;32m    169\u001b[0m     \u001b[38;5;66;03m# Explicit copy, or required since NumPy can't view from / to object.\u001b[39;00m\n\u001b[1;32m--> 170\u001b[0m     \u001b[38;5;28;01mreturn\u001b[39;00m arr\u001b[38;5;241m.\u001b[39mastype(dtype, copy\u001b[38;5;241m=\u001b[39m\u001b[38;5;28;01mTrue\u001b[39;00m)\n\u001b[0;32m    172\u001b[0m \u001b[38;5;28;01mreturn\u001b[39;00m arr\u001b[38;5;241m.\u001b[39mastype(dtype, copy\u001b[38;5;241m=\u001b[39mcopy)\n",
      "\u001b[1;31mValueError\u001b[0m: could not convert string to float: 'Not Calibrated'"
     ]
    }
   ],
   "source": [
    "import numpy as np\n",
    "import pandas as pd\n",
    "from sklearn.model_selection import train_test_split\n",
    "from tensorflow.keras.models import Model\n",
    "from tensorflow.keras.layers import Input, Embedding, Dense, Concatenate, Flatten\n",
    "from tensorflow.keras.optimizers import Adam\n",
    "\n",
    "# Step 1: Data Preprocessing\n",
    "# Load the Coursera 2021 dataset\n",
    "df = pd.read_csv('Coursera.csv')\n",
    "\n",
    "# Encode categorical variables\n",
    "df['University'] = df['University'].astype('category').cat.codes\n",
    "df['Difficulty Level'] = df['Difficulty Level'].astype('category').cat.codes\n",
    "df['Course Rating'] = df['Course Rating'].astype(float)\n",
    "\n",
    "# Step 2: Define User-Item Interaction Matrix\n",
    "user_item_matrix = df.pivot(index='User', columns='Course Name', values='Course Rating').fillna(0).values\n",
    "\n",
    "# Step 3: Define the Model\n",
    "num_users, num_courses = user_item_matrix.shape\n",
    "embedding_size = 10\n",
    "\n",
    "user_input = Input(shape=(1,))\n",
    "user_embedding = Embedding(input_dim=num_users, output_dim=embedding_size)(user_input)\n",
    "user_embedding = Flatten()(user_embedding)\n",
    "\n",
    "course_input = Input(shape=(1,))\n",
    "course_embedding = Embedding(input_dim=num_courses, output_dim=embedding_size)(course_input)\n",
    "course_embedding = Flatten()(course_embedding)\n",
    "\n",
    "concatenated = Concatenate()([user_embedding, course_embedding])\n",
    "\n",
    "x = Dense(64, activation='relu')(concatenated)\n",
    "x = Dense(32, activation='relu')(x)\n",
    "output = Dense(1, activation='linear')(x)\n",
    "\n",
    "model = Model(inputs=[user_input, course_input], outputs=output)\n",
    "\n",
    "# Step 4: Compile and Train the Model\n",
    "model.compile(loss='mean_squared_error', optimizer=Adam(), metrics=['mean_absolute_error'])\n",
    "\n",
    "X = np.array(df[['User', 'Course Name']])\n",
    "y = np.array(df['Course Rating'])\n",
    "\n",
    "X_train, X_val, y_train, y_val = train_test_split(X, y, test_size=0.2, random_state=42)\n",
    "\n",
    "model.fit([X_train[:, 0], X_train[:, 1]], y_train, validation_data=([X_val[:, 0], X_val[:, 1]], y_val), epochs=10, batch_size=64)\n",
    "\n",
    "# Step 5: Evaluation\n",
    "loss, mae = model.evaluate([X_val[:, 0], X_val[:, 1]], y_val)\n",
    "print(f'Validation Loss: {loss}, Validation MAE: {mae}')\n",
    "\n",
    "# Step 6: Recommendations\n",
    "# Use the trained model to make predictions for users and recommend courses based on predicted ratings\n",
    "def recommend_courses(user_id, user_item_matrix, model):\n",
    "    user_vector = np.full(user_item_matrix.shape[1], user_id)\n",
    "    course_ids = np.arange(user_item_matrix.shape[1])\n",
    "    ratings = model.predict([user_vector, course_ids])\n",
    "    recommended_course_ids = np.argsort(ratings[:, 0])[::-1]\n",
    "    return recommended_course_ids\n",
    "\n",
    "user_id = 1  # Replace with the user ID for which you want to make recommendations\n",
    "recommended_course_ids = recommend_courses(user_id, user_item_matrix, model)\n",
    "\n",
    "# Print the top recommended course names\n",
    "top_n = 5  # Number of top recommendations to display\n",
    "top_courses = df.columns[recommended_course_ids[:top_n]]\n",
    "print(f\"Top {top_n} recommended courses for user {user_id}:\")\n",
    "for course_name in top_courses:\n",
    "    print(course_name)\n"
   ]
  },
  {
   "cell_type": "code",
   "execution_count": null,
   "id": "9c97a032",
   "metadata": {},
   "outputs": [],
   "source": []
  }
 ],
 "metadata": {
  "kernelspec": {
   "display_name": "Python 3 (ipykernel)",
   "language": "python",
   "name": "python3"
  },
  "language_info": {
   "codemirror_mode": {
    "name": "ipython",
    "version": 3
   },
   "file_extension": ".py",
   "mimetype": "text/x-python",
   "name": "python",
   "nbconvert_exporter": "python",
   "pygments_lexer": "ipython3",
   "version": "3.11.3"
  }
 },
 "nbformat": 4,
 "nbformat_minor": 5
}
